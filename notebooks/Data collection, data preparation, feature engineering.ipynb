{
 "cells": [
  {
   "cell_type": "markdown",
   "metadata": {},
   "source": [
    "#### The following notebook performs data collection, data preparation and feature engineering on the presences.json file which list all the presences registered in the Unicam buildings. "
   ]
  },
  {
   "cell_type": "code",
   "execution_count": 1,
   "metadata": {},
   "outputs": [
    {
     "data": {
      "text/html": [
       "\n",
       "            <div>\n",
       "                <p><b>SparkSession - hive</b></p>\n",
       "                \n",
       "        <div>\n",
       "            <p><b>SparkContext</b></p>\n",
       "\n",
       "            <p><a href=\"http://10.0.2.15:4040\">Spark UI</a></p>\n",
       "\n",
       "            <dl>\n",
       "              <dt>Version</dt>\n",
       "                <dd><code>v3.0.1</code></dd>\n",
       "              <dt>Master</dt>\n",
       "                <dd><code>local[*]</code></dd>\n",
       "              <dt>AppName</dt>\n",
       "                <dd><code>PySparkShell</code></dd>\n",
       "            </dl>\n",
       "        </div>\n",
       "        \n",
       "            </div>\n",
       "        "
      ],
      "text/plain": [
       "<pyspark.sql.session.SparkSession at 0x7f026779d490>"
      ]
     },
     "execution_count": 1,
     "metadata": {},
     "output_type": "execute_result"
    }
   ],
   "source": [
    "from pyspark.sql import SparkSession\n",
    "\n",
    "spark = SparkSession.builder.appName('younicam-AI').getOrCreate()\n",
    "\n",
    "spark"
   ]
  },
  {
   "cell_type": "markdown",
   "metadata": {},
   "source": [
    "## 1 - File preparation"
   ]
  },
  {
   "cell_type": "markdown",
   "metadata": {},
   "source": [
    "#### Import the data related to the registered presences which is composed of: \n",
    " - _id: the unique id given by MongoDB\n",
    " - aula: the room\n",
    " - polo: the building\n",
    " - sede: the city\n",
    " - posto: the seat\n",
    " - inDate: the datetime for the room access\n",
    " - outDate: the datetime for the room exit\n",
    " - date: the datetime for the last modification made on the record"
   ]
  },
  {
   "cell_type": "code",
   "execution_count": 2,
   "metadata": {
    "scrolled": false
   },
   "outputs": [
    {
     "data": {
      "text/html": [
       "<div>\n",
       "<style scoped>\n",
       "    .dataframe tbody tr th:only-of-type {\n",
       "        vertical-align: middle;\n",
       "    }\n",
       "\n",
       "    .dataframe tbody tr th {\n",
       "        vertical-align: top;\n",
       "    }\n",
       "\n",
       "    .dataframe thead th {\n",
       "        text-align: right;\n",
       "    }\n",
       "</style>\n",
       "<table border=\"1\" class=\"dataframe\">\n",
       "  <thead>\n",
       "    <tr style=\"text-align: right;\">\n",
       "      <th></th>\n",
       "      <th>_id</th>\n",
       "      <th>aula</th>\n",
       "      <th>date</th>\n",
       "      <th>inDate</th>\n",
       "      <th>outDate</th>\n",
       "      <th>polo</th>\n",
       "      <th>posto</th>\n",
       "      <th>sede</th>\n",
       "    </tr>\n",
       "  </thead>\n",
       "  <tbody>\n",
       "    <tr>\n",
       "      <th>0</th>\n",
       "      <td>5fa8ef7d1bd2a03f4641a15e</td>\n",
       "      <td>1</td>\n",
       "      <td>2020-11-09T07:27:57.078Z</td>\n",
       "      <td>2020-11-09T07:27:57.078Z</td>\n",
       "      <td>2020-11-09T12:05:00.362Z</td>\n",
       "      <td>1</td>\n",
       "      <td>1</td>\n",
       "      <td>1</td>\n",
       "    </tr>\n",
       "    <tr>\n",
       "      <th>1</th>\n",
       "      <td>5fa8efa51bd2a03f4641a15f</td>\n",
       "      <td>1</td>\n",
       "      <td>2020-11-09T07:28:37.074Z</td>\n",
       "      <td>2020-11-09T07:28:37.074Z</td>\n",
       "      <td>2020-11-09T12:05:00.363Z</td>\n",
       "      <td>1</td>\n",
       "      <td>2</td>\n",
       "      <td>1</td>\n",
       "    </tr>\n",
       "    <tr>\n",
       "      <th>2</th>\n",
       "      <td>5fa8f0751bd2a03f4641a160</td>\n",
       "      <td>1</td>\n",
       "      <td>2020-11-09T07:32:05.879Z</td>\n",
       "      <td>2020-11-09T07:32:05.878Z</td>\n",
       "      <td>2020-11-09T12:05:00.364Z</td>\n",
       "      <td>1</td>\n",
       "      <td>3</td>\n",
       "      <td>1</td>\n",
       "    </tr>\n",
       "    <tr>\n",
       "      <th>3</th>\n",
       "      <td>5fa8f0811bd2a03f4641a161</td>\n",
       "      <td>1</td>\n",
       "      <td>2020-11-09T07:32:17.390Z</td>\n",
       "      <td>2020-11-09T07:32:17.390Z</td>\n",
       "      <td>2020-11-09T07:32:20.897Z</td>\n",
       "      <td>1</td>\n",
       "      <td>4</td>\n",
       "      <td>1</td>\n",
       "    </tr>\n",
       "    <tr>\n",
       "      <th>4</th>\n",
       "      <td>5fa8f0891bd2a03f4641a162</td>\n",
       "      <td>1</td>\n",
       "      <td>2020-11-09T07:32:25.980Z</td>\n",
       "      <td>2020-11-09T07:32:25.980Z</td>\n",
       "      <td>2020-11-09T07:32:36.245Z</td>\n",
       "      <td>1</td>\n",
       "      <td>5</td>\n",
       "      <td>1</td>\n",
       "    </tr>\n",
       "    <tr>\n",
       "      <th>...</th>\n",
       "      <td>...</td>\n",
       "      <td>...</td>\n",
       "      <td>...</td>\n",
       "      <td>...</td>\n",
       "      <td>...</td>\n",
       "      <td>...</td>\n",
       "      <td>...</td>\n",
       "      <td>...</td>\n",
       "    </tr>\n",
       "    <tr>\n",
       "      <th>9836</th>\n",
       "      <td>5fd9dcb7ff3b76b96dd7987b</td>\n",
       "      <td>17</td>\n",
       "      <td>2020-12-16T10:08:55.168Z</td>\n",
       "      <td>2020-12-16T10:08:55.168Z</td>\n",
       "      <td>None</td>\n",
       "      <td>11</td>\n",
       "      <td>13</td>\n",
       "      <td>1</td>\n",
       "    </tr>\n",
       "    <tr>\n",
       "      <th>9837</th>\n",
       "      <td>5fd9ddcfff3b76b96dd7988b</td>\n",
       "      <td>19</td>\n",
       "      <td>2020-12-16T10:13:35.299Z</td>\n",
       "      <td>2020-12-16T10:13:35.299Z</td>\n",
       "      <td>None</td>\n",
       "      <td>5</td>\n",
       "      <td>12</td>\n",
       "      <td>1</td>\n",
       "    </tr>\n",
       "    <tr>\n",
       "      <th>9838</th>\n",
       "      <td>5fd9ddf1ff3b76b96dd7988e</td>\n",
       "      <td>1</td>\n",
       "      <td>2020-12-16T10:14:09.471Z</td>\n",
       "      <td>2020-12-16T10:14:09.471Z</td>\n",
       "      <td>None</td>\n",
       "      <td>1</td>\n",
       "      <td>46</td>\n",
       "      <td>1</td>\n",
       "    </tr>\n",
       "    <tr>\n",
       "      <th>9839</th>\n",
       "      <td>5fd9de6cff3b76b96dd79891</td>\n",
       "      <td>13</td>\n",
       "      <td>2020-12-16T10:16:12.267Z</td>\n",
       "      <td>2020-12-16T10:16:12.267Z</td>\n",
       "      <td>None</td>\n",
       "      <td>9</td>\n",
       "      <td>15</td>\n",
       "      <td>4</td>\n",
       "    </tr>\n",
       "    <tr>\n",
       "      <th>9840</th>\n",
       "      <td>5fd9df86ff3b76b96dd79898</td>\n",
       "      <td>19</td>\n",
       "      <td>2020-12-16T10:20:54.612Z</td>\n",
       "      <td>2020-12-16T10:20:54.612Z</td>\n",
       "      <td>None</td>\n",
       "      <td>5</td>\n",
       "      <td>13</td>\n",
       "      <td>1</td>\n",
       "    </tr>\n",
       "  </tbody>\n",
       "</table>\n",
       "<p>9841 rows × 8 columns</p>\n",
       "</div>"
      ],
      "text/plain": [
       "                           _id aula                      date  \\\n",
       "0     5fa8ef7d1bd2a03f4641a15e    1  2020-11-09T07:27:57.078Z   \n",
       "1     5fa8efa51bd2a03f4641a15f    1  2020-11-09T07:28:37.074Z   \n",
       "2     5fa8f0751bd2a03f4641a160    1  2020-11-09T07:32:05.879Z   \n",
       "3     5fa8f0811bd2a03f4641a161    1  2020-11-09T07:32:17.390Z   \n",
       "4     5fa8f0891bd2a03f4641a162    1  2020-11-09T07:32:25.980Z   \n",
       "...                        ...  ...                       ...   \n",
       "9836  5fd9dcb7ff3b76b96dd7987b   17  2020-12-16T10:08:55.168Z   \n",
       "9837  5fd9ddcfff3b76b96dd7988b   19  2020-12-16T10:13:35.299Z   \n",
       "9838  5fd9ddf1ff3b76b96dd7988e    1  2020-12-16T10:14:09.471Z   \n",
       "9839  5fd9de6cff3b76b96dd79891   13  2020-12-16T10:16:12.267Z   \n",
       "9840  5fd9df86ff3b76b96dd79898   19  2020-12-16T10:20:54.612Z   \n",
       "\n",
       "                        inDate                   outDate polo posto sede  \n",
       "0     2020-11-09T07:27:57.078Z  2020-11-09T12:05:00.362Z    1     1    1  \n",
       "1     2020-11-09T07:28:37.074Z  2020-11-09T12:05:00.363Z    1     2    1  \n",
       "2     2020-11-09T07:32:05.878Z  2020-11-09T12:05:00.364Z    1     3    1  \n",
       "3     2020-11-09T07:32:17.390Z  2020-11-09T07:32:20.897Z    1     4    1  \n",
       "4     2020-11-09T07:32:25.980Z  2020-11-09T07:32:36.245Z    1     5    1  \n",
       "...                        ...                       ...  ...   ...  ...  \n",
       "9836  2020-12-16T10:08:55.168Z                      None   11    13    1  \n",
       "9837  2020-12-16T10:13:35.299Z                      None    5    12    1  \n",
       "9838  2020-12-16T10:14:09.471Z                      None    1    46    1  \n",
       "9839  2020-12-16T10:16:12.267Z                      None    9    15    4  \n",
       "9840  2020-12-16T10:20:54.612Z                      None    5    13    1  \n",
       "\n",
       "[9841 rows x 8 columns]"
      ]
     },
     "execution_count": 2,
     "metadata": {},
     "output_type": "execute_result"
    }
   ],
   "source": [
    "presencesDF = spark.read.json(\"../data/raw/presences.json\", multiLine=True)\n",
    "\n",
    "presencesDF.toPandas()"
   ]
  },
  {
   "cell_type": "markdown",
   "metadata": {},
   "source": [
    "#### Perform some operations to check the state of the data and change the names to improve readibility"
   ]
  },
  {
   "cell_type": "code",
   "execution_count": 3,
   "metadata": {},
   "outputs": [
    {
     "data": {
      "text/plain": [
       "[('_id', 'string'),\n",
       " ('aula', 'string'),\n",
       " ('date', 'string'),\n",
       " ('inDate', 'string'),\n",
       " ('outDate', 'string'),\n",
       " ('polo', 'string'),\n",
       " ('posto', 'string'),\n",
       " ('sede', 'string')]"
      ]
     },
     "execution_count": 3,
     "metadata": {},
     "output_type": "execute_result"
    }
   ],
   "source": [
    "presencesDF.dtypes"
   ]
  },
  {
   "cell_type": "code",
   "execution_count": 4,
   "metadata": {},
   "outputs": [
    {
     "data": {
      "text/plain": [
       "9841"
      ]
     },
     "execution_count": 4,
     "metadata": {},
     "output_type": "execute_result"
    }
   ],
   "source": [
    "presencesDF.count()"
   ]
  },
  {
   "cell_type": "markdown",
   "metadata": {},
   "source": [
    "## 2 - Data cleaning and preparation\n",
    "#### Start be renaming some columns to improve readibility"
   ]
  },
  {
   "cell_type": "code",
   "execution_count": 5,
   "metadata": {},
   "outputs": [
    {
     "data": {
      "text/plain": [
       "['_id', 'room', 'date', 'inDate', 'outDate', 'building', 'seat', 'city']"
      ]
     },
     "execution_count": 5,
     "metadata": {},
     "output_type": "execute_result"
    }
   ],
   "source": [
    "presencesDF = presencesDF.withColumnRenamed(\"aula\", \"room\")\n",
    "presencesDF = presencesDF.withColumnRenamed(\"polo\", \"building\")\n",
    "presencesDF = presencesDF.withColumnRenamed(\"sede\", \"city\")\n",
    "presencesDF = presencesDF.withColumnRenamed(\"posto\", \"seat\")\n",
    "\n",
    "presencesDF.columns"
   ]
  },
  {
   "cell_type": "markdown",
   "metadata": {},
   "source": [
    "#### Let's look for null values inside each column"
   ]
  },
  {
   "cell_type": "code",
   "execution_count": 6,
   "metadata": {
    "scrolled": false
   },
   "outputs": [
    {
     "data": {
      "text/html": [
       "<div>\n",
       "<style scoped>\n",
       "    .dataframe tbody tr th:only-of-type {\n",
       "        vertical-align: middle;\n",
       "    }\n",
       "\n",
       "    .dataframe tbody tr th {\n",
       "        vertical-align: top;\n",
       "    }\n",
       "\n",
       "    .dataframe thead th {\n",
       "        text-align: right;\n",
       "    }\n",
       "</style>\n",
       "<table border=\"1\" class=\"dataframe\">\n",
       "  <thead>\n",
       "    <tr style=\"text-align: right;\">\n",
       "      <th></th>\n",
       "      <th>_id</th>\n",
       "      <th>room</th>\n",
       "      <th>date</th>\n",
       "      <th>inDate</th>\n",
       "      <th>outDate</th>\n",
       "      <th>building</th>\n",
       "      <th>seat</th>\n",
       "      <th>city</th>\n",
       "    </tr>\n",
       "  </thead>\n",
       "  <tbody>\n",
       "    <tr>\n",
       "      <th>0</th>\n",
       "      <td>0</td>\n",
       "      <td>0</td>\n",
       "      <td>0</td>\n",
       "      <td>0</td>\n",
       "      <td>223</td>\n",
       "      <td>0</td>\n",
       "      <td>0</td>\n",
       "      <td>0</td>\n",
       "    </tr>\n",
       "  </tbody>\n",
       "</table>\n",
       "</div>"
      ],
      "text/plain": [
       "   _id  room  date  inDate  outDate  building  seat  city\n",
       "0    0     0     0       0      223         0     0     0"
      ]
     },
     "execution_count": 6,
     "metadata": {},
     "output_type": "execute_result"
    }
   ],
   "source": [
    "from pyspark.sql.functions import isnull, when, count, col\n",
    "\n",
    "presencesDF.select([count(when(isnull(c), c)).alias(c) for c in presencesDF.columns]).toPandas()"
   ]
  },
  {
   "cell_type": "markdown",
   "metadata": {},
   "source": [
    "#### As you can see there are some null values inside the outDate column. This can happen because at the moment of data extraction there were some \"active\" presences that, of course cannot have the outDate. \n",
    "#### Those null values needs to be removed."
   ]
  },
  {
   "cell_type": "code",
   "execution_count": 7,
   "metadata": {},
   "outputs": [
    {
     "data": {
      "text/plain": [
       "9618"
      ]
     },
     "execution_count": 7,
     "metadata": {},
     "output_type": "execute_result"
    }
   ],
   "source": [
    "presencesDF = presencesDF.replace('?', None).dropna(how='any')\n",
    "\n",
    "presencesDF.count()"
   ]
  },
  {
   "cell_type": "markdown",
   "metadata": {},
   "source": [
    "#### Drop the date column because it stores the date of the last modification made on the record and it is redundant since the last update made on the record is perfomed at the exit time that saved in the outDate field."
   ]
  },
  {
   "cell_type": "code",
   "execution_count": 8,
   "metadata": {},
   "outputs": [
    {
     "data": {
      "text/plain": [
       "['_id', 'room', 'inDate', 'outDate', 'building', 'seat', 'city']"
      ]
     },
     "execution_count": 8,
     "metadata": {},
     "output_type": "execute_result"
    }
   ],
   "source": [
    "presencesDF = presencesDF.drop(\"date\")\n",
    "\n",
    "presencesDF.columns"
   ]
  },
  {
   "cell_type": "markdown",
   "metadata": {},
   "source": [
    "#### Cast inDate and outDate into timestamp in order to extrapolate day, month, hour and minutes either for the entrance datetime and the exit datetime. \n",
    "#### Then the columns _id, posto, inDate and outDate_ are deleted since they are not needed for the analysis."
   ]
  },
  {
   "cell_type": "code",
   "execution_count": 9,
   "metadata": {},
   "outputs": [
    {
     "data": {
      "text/plain": [
       "[('room', 'string'),\n",
       " ('building', 'string'),\n",
       " ('seat', 'string'),\n",
       " ('city', 'string'),\n",
       " ('day', 'int'),\n",
       " ('month', 'int'),\n",
       " ('inHour', 'int'),\n",
       " ('inMinute', 'int'),\n",
       " ('outHour', 'int'),\n",
       " ('outMinute', 'int')]"
      ]
     },
     "execution_count": 9,
     "metadata": {},
     "output_type": "execute_result"
    }
   ],
   "source": [
    "from pyspark.sql.functions import year, month, dayofmonth, hour, minute\n",
    "\n",
    "presencesDF = presencesDF.withColumn(\"inDate\", presencesDF[\"inDate\"].cast(\"timestamp\"))\n",
    "\n",
    "presencesDF = presencesDF.withColumn(\"outDate\", presencesDF[\"outDate\"].cast(\"timestamp\"))\n",
    "\n",
    "presencesDF = presencesDF.withColumn(\"day\", dayofmonth(presencesDF[\"inDate\"]))\n",
    "presencesDF = presencesDF.withColumn(\"month\", month(presencesDF[\"inDate\"]))\n",
    "presencesDF = presencesDF.withColumn(\"inHour\", hour(presencesDF[\"inDate\"]))\n",
    "presencesDF = presencesDF.withColumn(\"inMinute\", minute(presencesDF[\"inDate\"]))\n",
    "presencesDF = presencesDF.withColumn(\"outHour\", hour(presencesDF[\"outDate\"]))\n",
    "presencesDF = presencesDF.withColumn(\"outMinute\", minute(presencesDF[\"outDate\"]))\n",
    "\n",
    "presencesDF = presencesDF.drop(\"_id\", \"posto\", \"inDate\", \"outDate\")\n",
    "\n",
    "presencesDF.dtypes"
   ]
  },
  {
   "cell_type": "markdown",
   "metadata": {},
   "source": [
    "#### Cast the column room, building and city to integer because the machine learning model works only with integer values"
   ]
  },
  {
   "cell_type": "code",
   "execution_count": 10,
   "metadata": {
    "scrolled": false
   },
   "outputs": [
    {
     "data": {
      "text/plain": [
       "[('room', 'int'),\n",
       " ('building', 'int'),\n",
       " ('seat', 'string'),\n",
       " ('city', 'int'),\n",
       " ('day', 'int'),\n",
       " ('month', 'int'),\n",
       " ('inHour', 'int'),\n",
       " ('inMinute', 'int'),\n",
       " ('outHour', 'int'),\n",
       " ('outMinute', 'int')]"
      ]
     },
     "execution_count": 10,
     "metadata": {},
     "output_type": "execute_result"
    }
   ],
   "source": [
    "from pyspark.sql.types import IntegerType\n",
    "\n",
    "presencesDF = presencesDF.withColumn(\"room\", presencesDF[\"room\"].cast(IntegerType()))\n",
    "presencesDF = presencesDF.withColumn(\"building\", presencesDF[\"building\"].cast(IntegerType()))\n",
    "presencesDF = presencesDF.withColumn(\"city\", presencesDF[\"city\"].cast(IntegerType()))\n",
    "\n",
    "presencesDF.dtypes"
   ]
  },
  {
   "cell_type": "markdown",
   "metadata": {},
   "source": [
    "#### Store the processed data in dedicated folder."
   ]
  },
  {
   "cell_type": "code",
   "execution_count": 11,
   "metadata": {},
   "outputs": [],
   "source": [
    "import os\n",
    "\n",
    "NEW_DATA_DIR = \"../data/processed/\"\n",
    "\n",
    "try:\n",
    "    os.mkdir(NEW_DATA_DIR)\n",
    "except:\n",
    "    pass\n",
    "\n",
    "presencesDF.toPandas().to_json(NEW_DATA_DIR + \"presences.json\")"
   ]
  },
  {
   "cell_type": "markdown",
   "metadata": {},
   "source": [
    "## 3 - Feature engineering"
   ]
  },
  {
   "cell_type": "markdown",
   "metadata": {},
   "source": [
    "#### Since we need the number of people for a given room in a certain day and in a certain hour, we have to count the number of presences considering room, building, city, day, month, hour. \n",
    "#### In order to get the number of people present in a time interval, we can explode a sequence of hours (e.g. for a record with inHour: 8 and outHour 13, the sequence of hours will be: [8,9,10,11,12,13]), group by the hour (and other columns) and get the aggregate count for each group."
   ]
  },
  {
   "cell_type": "code",
   "execution_count": 13,
   "metadata": {
    "scrolled": true
   },
   "outputs": [
    {
     "data": {
      "text/html": [
       "<div>\n",
       "<style scoped>\n",
       "    .dataframe tbody tr th:only-of-type {\n",
       "        vertical-align: middle;\n",
       "    }\n",
       "\n",
       "    .dataframe tbody tr th {\n",
       "        vertical-align: top;\n",
       "    }\n",
       "\n",
       "    .dataframe thead th {\n",
       "        text-align: right;\n",
       "    }\n",
       "</style>\n",
       "<table border=\"1\" class=\"dataframe\">\n",
       "  <thead>\n",
       "    <tr style=\"text-align: right;\">\n",
       "      <th></th>\n",
       "      <th>room</th>\n",
       "      <th>building</th>\n",
       "      <th>city</th>\n",
       "      <th>day</th>\n",
       "      <th>month</th>\n",
       "      <th>hour</th>\n",
       "      <th>target</th>\n",
       "    </tr>\n",
       "  </thead>\n",
       "  <tbody>\n",
       "    <tr>\n",
       "      <th>0</th>\n",
       "      <td>5</td>\n",
       "      <td>3</td>\n",
       "      <td>1</td>\n",
       "      <td>9</td>\n",
       "      <td>11</td>\n",
       "      <td>8</td>\n",
       "      <td>4</td>\n",
       "    </tr>\n",
       "    <tr>\n",
       "      <th>1</th>\n",
       "      <td>16</td>\n",
       "      <td>2</td>\n",
       "      <td>1</td>\n",
       "      <td>10</td>\n",
       "      <td>11</td>\n",
       "      <td>13</td>\n",
       "      <td>1</td>\n",
       "    </tr>\n",
       "    <tr>\n",
       "      <th>2</th>\n",
       "      <td>11</td>\n",
       "      <td>6</td>\n",
       "      <td>1</td>\n",
       "      <td>10</td>\n",
       "      <td>11</td>\n",
       "      <td>15</td>\n",
       "      <td>1</td>\n",
       "    </tr>\n",
       "    <tr>\n",
       "      <th>3</th>\n",
       "      <td>22</td>\n",
       "      <td>4</td>\n",
       "      <td>2</td>\n",
       "      <td>13</td>\n",
       "      <td>11</td>\n",
       "      <td>11</td>\n",
       "      <td>7</td>\n",
       "    </tr>\n",
       "    <tr>\n",
       "      <th>4</th>\n",
       "      <td>26</td>\n",
       "      <td>14</td>\n",
       "      <td>2</td>\n",
       "      <td>13</td>\n",
       "      <td>11</td>\n",
       "      <td>11</td>\n",
       "      <td>1</td>\n",
       "    </tr>\n",
       "    <tr>\n",
       "      <th>...</th>\n",
       "      <td>...</td>\n",
       "      <td>...</td>\n",
       "      <td>...</td>\n",
       "      <td>...</td>\n",
       "      <td>...</td>\n",
       "      <td>...</td>\n",
       "      <td>...</td>\n",
       "    </tr>\n",
       "    <tr>\n",
       "      <th>4562</th>\n",
       "      <td>1</td>\n",
       "      <td>1</td>\n",
       "      <td>1</td>\n",
       "      <td>1</td>\n",
       "      <td>12</td>\n",
       "      <td>9</td>\n",
       "      <td>42</td>\n",
       "    </tr>\n",
       "    <tr>\n",
       "      <th>4563</th>\n",
       "      <td>9</td>\n",
       "      <td>4</td>\n",
       "      <td>2</td>\n",
       "      <td>2</td>\n",
       "      <td>12</td>\n",
       "      <td>17</td>\n",
       "      <td>16</td>\n",
       "    </tr>\n",
       "    <tr>\n",
       "      <th>4564</th>\n",
       "      <td>1</td>\n",
       "      <td>1</td>\n",
       "      <td>1</td>\n",
       "      <td>3</td>\n",
       "      <td>12</td>\n",
       "      <td>8</td>\n",
       "      <td>47</td>\n",
       "    </tr>\n",
       "    <tr>\n",
       "      <th>4565</th>\n",
       "      <td>7</td>\n",
       "      <td>7</td>\n",
       "      <td>1</td>\n",
       "      <td>14</td>\n",
       "      <td>12</td>\n",
       "      <td>17</td>\n",
       "      <td>9</td>\n",
       "    </tr>\n",
       "    <tr>\n",
       "      <th>4566</th>\n",
       "      <td>1</td>\n",
       "      <td>1</td>\n",
       "      <td>1</td>\n",
       "      <td>15</td>\n",
       "      <td>12</td>\n",
       "      <td>14</td>\n",
       "      <td>22</td>\n",
       "    </tr>\n",
       "  </tbody>\n",
       "</table>\n",
       "<p>4567 rows × 7 columns</p>\n",
       "</div>"
      ],
      "text/plain": [
       "      room  building  city  day  month  hour  target\n",
       "0        5         3     1    9     11     8       4\n",
       "1       16         2     1   10     11    13       1\n",
       "2       11         6     1   10     11    15       1\n",
       "3       22         4     2   13     11    11       7\n",
       "4       26        14     2   13     11    11       1\n",
       "...    ...       ...   ...  ...    ...   ...     ...\n",
       "4562     1         1     1    1     12     9      42\n",
       "4563     9         4     2    2     12    17      16\n",
       "4564     1         1     1    3     12     8      47\n",
       "4565     7         7     1   14     12    17       9\n",
       "4566     1         1     1   15     12    14      22\n",
       "\n",
       "[4567 rows x 7 columns]"
      ]
     },
     "execution_count": 13,
     "metadata": {},
     "output_type": "execute_result"
    }
   ],
   "source": [
    "import pyspark.sql.functions as F\n",
    "\n",
    "finalDF = presencesDF.withColumn(\n",
    "    'hour',\n",
    "    F.explode(F.sequence('inHour', 'outHour'))\n",
    ").groupBy(\n",
    "    'room', 'building', 'city', 'day', 'month', 'hour'\n",
    ").count()\n",
    "\n",
    "finalDF = finalDF.withColumnRenamed(\"count\", \"target\")\n",
    "\n",
    "finalDF.toPandas()"
   ]
  },
  {
   "cell_type": "markdown",
   "metadata": {},
   "source": [
    "#### The generated column _count_ is our target features and all the others are the input values.\n",
    "#### The dataframe is ready for the ML model so we save it in a dedicated folder."
   ]
  },
  {
   "cell_type": "code",
   "execution_count": 14,
   "metadata": {},
   "outputs": [],
   "source": [
    "NEW_DATA_DIR = \"../data/engineered/\"\n",
    "\n",
    "try:\n",
    "    os.mkdir(NEW_DATA_DIR)\n",
    "except:\n",
    "    pass\n",
    "\n",
    "finalDF.toPandas().to_json(NEW_DATA_DIR + \"presences.json\")"
   ]
  }
 ],
 "metadata": {
  "kernelspec": {
   "display_name": "Python 3",
   "language": "python",
   "name": "python3"
  },
  "language_info": {
   "codemirror_mode": {
    "name": "ipython",
    "version": 3
   },
   "file_extension": ".py",
   "mimetype": "text/x-python",
   "name": "python",
   "nbconvert_exporter": "python",
   "pygments_lexer": "ipython3",
   "version": "3.8.5"
  }
 },
 "nbformat": 4,
 "nbformat_minor": 4
}
